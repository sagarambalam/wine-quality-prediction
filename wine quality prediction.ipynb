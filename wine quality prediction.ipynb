{
 "cells": [
  {
   "cell_type": "markdown",
   "id": "437e6c4f",
   "metadata": {},
   "source": [
    "## Wine quality prediction \n",
    "\n",
    "Problem statement - To predict the quality of wine based on the given features"
   ]
  },
  {
   "cell_type": "markdown",
   "id": "90435176",
   "metadata": {},
   "source": [
    "#### package imports"
   ]
  },
  {
   "cell_type": "code",
   "execution_count": 1,
   "id": "a397c62b",
   "metadata": {},
   "outputs": [],
   "source": [
    "import pandas as pd, numpy as np, matplotlib.pyplot as plt, seaborn as sns\n",
    "%matplotlib inline"
   ]
  },
  {
   "cell_type": "code",
   "execution_count": 150,
   "id": "5df875f5",
   "metadata": {},
   "outputs": [],
   "source": [
    "df = pd.read_csv('/Users/fllap0258/Personal/Wine Quality Prediction/winequality-red.csv')"
   ]
  },
  {
   "cell_type": "markdown",
   "id": "66e89a97",
   "metadata": {},
   "source": [
    "#### Size of Dataset"
   ]
  },
  {
   "cell_type": "code",
   "execution_count": 3,
   "id": "0a93023c",
   "metadata": {},
   "outputs": [
    {
     "data": {
      "text/plain": [
       "(1599, 12)"
      ]
     },
     "execution_count": 3,
     "metadata": {},
     "output_type": "execute_result"
    }
   ],
   "source": [
    "df.shape"
   ]
  },
  {
   "cell_type": "markdown",
   "id": "f412b6de",
   "metadata": {},
   "source": [
    "#### Column names"
   ]
  },
  {
   "cell_type": "code",
   "execution_count": 4,
   "id": "f7c5949d",
   "metadata": {},
   "outputs": [
    {
     "data": {
      "text/plain": [
       "Index(['fixed acidity', 'volatile acidity', 'citric acid', 'residual sugar',\n",
       "       'chlorides', 'free sulfur dioxide', 'total sulfur dioxide', 'density',\n",
       "       'pH', 'sulphates', 'alcohol', 'quality'],\n",
       "      dtype='object')"
      ]
     },
     "execution_count": 4,
     "metadata": {},
     "output_type": "execute_result"
    }
   ],
   "source": [
    "df.columns"
   ]
  },
  {
   "cell_type": "markdown",
   "id": "b51ed6a2",
   "metadata": {},
   "source": [
    "#### Target distribution"
   ]
  },
  {
   "cell_type": "code",
   "execution_count": 5,
   "id": "b60be874",
   "metadata": {},
   "outputs": [
    {
     "data": {
      "text/plain": [
       "3    0.006254\n",
       "8    0.011257\n",
       "4    0.033146\n",
       "7    0.124453\n",
       "6    0.398999\n",
       "5    0.425891\n",
       "Name: quality, dtype: float64"
      ]
     },
     "execution_count": 5,
     "metadata": {},
     "output_type": "execute_result"
    }
   ],
   "source": [
    "df.quality.value_counts(normalize=True, ascending=True)"
   ]
  },
  {
   "cell_type": "markdown",
   "id": "7f244cc3",
   "metadata": {},
   "source": [
    "#### Data types of the features"
   ]
  },
  {
   "cell_type": "code",
   "execution_count": 6,
   "id": "221d2c1b",
   "metadata": {},
   "outputs": [
    {
     "name": "stdout",
     "output_type": "stream",
     "text": [
      "<class 'pandas.core.frame.DataFrame'>\n",
      "RangeIndex: 1599 entries, 0 to 1598\n",
      "Data columns (total 12 columns):\n",
      " #   Column                Non-Null Count  Dtype  \n",
      "---  ------                --------------  -----  \n",
      " 0   fixed acidity         1599 non-null   float64\n",
      " 1   volatile acidity      1599 non-null   float64\n",
      " 2   citric acid           1599 non-null   float64\n",
      " 3   residual sugar        1599 non-null   float64\n",
      " 4   chlorides             1599 non-null   float64\n",
      " 5   free sulfur dioxide   1599 non-null   float64\n",
      " 6   total sulfur dioxide  1599 non-null   float64\n",
      " 7   density               1599 non-null   float64\n",
      " 8   pH                    1599 non-null   float64\n",
      " 9   sulphates             1599 non-null   float64\n",
      " 10  alcohol               1599 non-null   float64\n",
      " 11  quality               1599 non-null   int64  \n",
      "dtypes: float64(11), int64(1)\n",
      "memory usage: 150.0 KB\n"
     ]
    }
   ],
   "source": [
    "df.info()"
   ]
  },
  {
   "cell_type": "code",
   "execution_count": 7,
   "id": "d26817aa",
   "metadata": {},
   "outputs": [
    {
     "data": {
      "text/html": [
       "<div>\n",
       "<style scoped>\n",
       "    .dataframe tbody tr th:only-of-type {\n",
       "        vertical-align: middle;\n",
       "    }\n",
       "\n",
       "    .dataframe tbody tr th {\n",
       "        vertical-align: top;\n",
       "    }\n",
       "\n",
       "    .dataframe thead th {\n",
       "        text-align: right;\n",
       "    }\n",
       "</style>\n",
       "<table border=\"1\" class=\"dataframe\">\n",
       "  <thead>\n",
       "    <tr style=\"text-align: right;\">\n",
       "      <th></th>\n",
       "      <th>fixed acidity</th>\n",
       "      <th>volatile acidity</th>\n",
       "      <th>citric acid</th>\n",
       "      <th>residual sugar</th>\n",
       "      <th>chlorides</th>\n",
       "      <th>free sulfur dioxide</th>\n",
       "      <th>total sulfur dioxide</th>\n",
       "      <th>density</th>\n",
       "      <th>pH</th>\n",
       "      <th>sulphates</th>\n",
       "      <th>alcohol</th>\n",
       "      <th>quality</th>\n",
       "    </tr>\n",
       "  </thead>\n",
       "  <tbody>\n",
       "    <tr>\n",
       "      <th>count</th>\n",
       "      <td>1599.000000</td>\n",
       "      <td>1599.000000</td>\n",
       "      <td>1599.000000</td>\n",
       "      <td>1599.000000</td>\n",
       "      <td>1599.000000</td>\n",
       "      <td>1599.000000</td>\n",
       "      <td>1599.000000</td>\n",
       "      <td>1599.000000</td>\n",
       "      <td>1599.000000</td>\n",
       "      <td>1599.000000</td>\n",
       "      <td>1599.000000</td>\n",
       "      <td>1599.000000</td>\n",
       "    </tr>\n",
       "    <tr>\n",
       "      <th>mean</th>\n",
       "      <td>8.319637</td>\n",
       "      <td>0.527821</td>\n",
       "      <td>0.270976</td>\n",
       "      <td>2.538806</td>\n",
       "      <td>0.087467</td>\n",
       "      <td>15.874922</td>\n",
       "      <td>46.467792</td>\n",
       "      <td>0.996747</td>\n",
       "      <td>3.311113</td>\n",
       "      <td>0.658149</td>\n",
       "      <td>10.422983</td>\n",
       "      <td>5.636023</td>\n",
       "    </tr>\n",
       "    <tr>\n",
       "      <th>std</th>\n",
       "      <td>1.741096</td>\n",
       "      <td>0.179060</td>\n",
       "      <td>0.194801</td>\n",
       "      <td>1.409928</td>\n",
       "      <td>0.047065</td>\n",
       "      <td>10.460157</td>\n",
       "      <td>32.895324</td>\n",
       "      <td>0.001887</td>\n",
       "      <td>0.154386</td>\n",
       "      <td>0.169507</td>\n",
       "      <td>1.065668</td>\n",
       "      <td>0.807569</td>\n",
       "    </tr>\n",
       "    <tr>\n",
       "      <th>min</th>\n",
       "      <td>4.600000</td>\n",
       "      <td>0.120000</td>\n",
       "      <td>0.000000</td>\n",
       "      <td>0.900000</td>\n",
       "      <td>0.012000</td>\n",
       "      <td>1.000000</td>\n",
       "      <td>6.000000</td>\n",
       "      <td>0.990070</td>\n",
       "      <td>2.740000</td>\n",
       "      <td>0.330000</td>\n",
       "      <td>8.400000</td>\n",
       "      <td>3.000000</td>\n",
       "    </tr>\n",
       "    <tr>\n",
       "      <th>25%</th>\n",
       "      <td>7.100000</td>\n",
       "      <td>0.390000</td>\n",
       "      <td>0.090000</td>\n",
       "      <td>1.900000</td>\n",
       "      <td>0.070000</td>\n",
       "      <td>7.000000</td>\n",
       "      <td>22.000000</td>\n",
       "      <td>0.995600</td>\n",
       "      <td>3.210000</td>\n",
       "      <td>0.550000</td>\n",
       "      <td>9.500000</td>\n",
       "      <td>5.000000</td>\n",
       "    </tr>\n",
       "    <tr>\n",
       "      <th>50%</th>\n",
       "      <td>7.900000</td>\n",
       "      <td>0.520000</td>\n",
       "      <td>0.260000</td>\n",
       "      <td>2.200000</td>\n",
       "      <td>0.079000</td>\n",
       "      <td>14.000000</td>\n",
       "      <td>38.000000</td>\n",
       "      <td>0.996750</td>\n",
       "      <td>3.310000</td>\n",
       "      <td>0.620000</td>\n",
       "      <td>10.200000</td>\n",
       "      <td>6.000000</td>\n",
       "    </tr>\n",
       "    <tr>\n",
       "      <th>75%</th>\n",
       "      <td>9.200000</td>\n",
       "      <td>0.640000</td>\n",
       "      <td>0.420000</td>\n",
       "      <td>2.600000</td>\n",
       "      <td>0.090000</td>\n",
       "      <td>21.000000</td>\n",
       "      <td>62.000000</td>\n",
       "      <td>0.997835</td>\n",
       "      <td>3.400000</td>\n",
       "      <td>0.730000</td>\n",
       "      <td>11.100000</td>\n",
       "      <td>6.000000</td>\n",
       "    </tr>\n",
       "    <tr>\n",
       "      <th>max</th>\n",
       "      <td>15.900000</td>\n",
       "      <td>1.580000</td>\n",
       "      <td>1.000000</td>\n",
       "      <td>15.500000</td>\n",
       "      <td>0.611000</td>\n",
       "      <td>72.000000</td>\n",
       "      <td>289.000000</td>\n",
       "      <td>1.003690</td>\n",
       "      <td>4.010000</td>\n",
       "      <td>2.000000</td>\n",
       "      <td>14.900000</td>\n",
       "      <td>8.000000</td>\n",
       "    </tr>\n",
       "  </tbody>\n",
       "</table>\n",
       "</div>"
      ],
      "text/plain": [
       "       fixed acidity  volatile acidity  citric acid  residual sugar  \\\n",
       "count    1599.000000       1599.000000  1599.000000     1599.000000   \n",
       "mean        8.319637          0.527821     0.270976        2.538806   \n",
       "std         1.741096          0.179060     0.194801        1.409928   \n",
       "min         4.600000          0.120000     0.000000        0.900000   \n",
       "25%         7.100000          0.390000     0.090000        1.900000   \n",
       "50%         7.900000          0.520000     0.260000        2.200000   \n",
       "75%         9.200000          0.640000     0.420000        2.600000   \n",
       "max        15.900000          1.580000     1.000000       15.500000   \n",
       "\n",
       "         chlorides  free sulfur dioxide  total sulfur dioxide      density  \\\n",
       "count  1599.000000          1599.000000           1599.000000  1599.000000   \n",
       "mean      0.087467            15.874922             46.467792     0.996747   \n",
       "std       0.047065            10.460157             32.895324     0.001887   \n",
       "min       0.012000             1.000000              6.000000     0.990070   \n",
       "25%       0.070000             7.000000             22.000000     0.995600   \n",
       "50%       0.079000            14.000000             38.000000     0.996750   \n",
       "75%       0.090000            21.000000             62.000000     0.997835   \n",
       "max       0.611000            72.000000            289.000000     1.003690   \n",
       "\n",
       "                pH    sulphates      alcohol      quality  \n",
       "count  1599.000000  1599.000000  1599.000000  1599.000000  \n",
       "mean      3.311113     0.658149    10.422983     5.636023  \n",
       "std       0.154386     0.169507     1.065668     0.807569  \n",
       "min       2.740000     0.330000     8.400000     3.000000  \n",
       "25%       3.210000     0.550000     9.500000     5.000000  \n",
       "50%       3.310000     0.620000    10.200000     6.000000  \n",
       "75%       3.400000     0.730000    11.100000     6.000000  \n",
       "max       4.010000     2.000000    14.900000     8.000000  "
      ]
     },
     "execution_count": 7,
     "metadata": {},
     "output_type": "execute_result"
    }
   ],
   "source": [
    "df.describe()"
   ]
  },
  {
   "cell_type": "code",
   "execution_count": 8,
   "id": "5e5bf84d",
   "metadata": {},
   "outputs": [
    {
     "data": {
      "text/plain": [
       "<AxesSubplot:xlabel='quality', ylabel='volatile acidity'>"
      ]
     },
     "execution_count": 8,
     "metadata": {},
     "output_type": "execute_result"
    },
    {
     "data": {
      "image/png": "[encoded data removed]",
      "text/plain": [
       "<Figure size 432x288 with 1 Axes>"
      ]
     },
     "metadata": {
      "needs_background": "light"
     },
     "output_type": "display_data"
    }
   ],
   "source": [
    "sns.boxplot(x='quality', y='volatile acidity', data=df)"
   ]
  },
  {
   "cell_type": "markdown",
   "id": "e03869fc",
   "metadata": {},
   "source": [
    "The Feature volatile acidity is showing a distinction between all the quality grades of the wine. But there are a few outliers that need to be handled at the preprocessing stage."
   ]
  },
  {
   "cell_type": "code",
   "execution_count": 38,
   "id": "59840c13",
   "metadata": {},
   "outputs": [
    {
     "data": {
      "text/plain": [
       "<AxesSubplot:xlabel='quality', ylabel='citric acid'>"
      ]
     },
     "execution_count": 38,
     "metadata": {},
     "output_type": "execute_result"
    },
    {
     "data": {
      "image/png": "[encoded data removed]",
      "text/plain": [
       "<Figure size 432x288 with 1 Axes>"
      ]
     },
     "metadata": {
      "needs_background": "light"
     },
     "output_type": "display_data"
    }
   ],
   "source": [
    "sns.boxplot(x ='quality', y='citric acid', data=df)"
   ]
  },
  {
   "cell_type": "markdown",
   "id": "2be5e69f",
   "metadata": {},
   "source": [
    "The feature citric acid shows an increasing in levels of citric acid improves the quality of the wine. But it should be noted that the values for quality 3 is highly skewed. Outliers in quality 4 needs to be handled."
   ]
  },
  {
   "cell_type": "code",
   "execution_count": 39,
   "id": "f1b49404",
   "metadata": {},
   "outputs": [
    {
     "data": {
      "text/plain": [
       "<AxesSubplot:xlabel='quality', ylabel='residual sugar'>"
      ]
     },
     "execution_count": 39,
     "metadata": {},
     "output_type": "execute_result"
    },
    {
     "data": {
      "image/png": "[encoded data removed]",
      "text/plain": [
       "<Figure size 432x288 with 1 Axes>"
      ]
     },
     "metadata": {
      "needs_background": "light"
     },
     "output_type": "display_data"
    }
   ],
   "source": [
    "sns.boxplot(x ='quality', y='residual sugar', data=df)"
   ]
  },
  {
   "cell_type": "markdown",
   "id": "da4e27d6",
   "metadata": {},
   "source": [
    "The feature residual sugar has a larnge number of outliers."
   ]
  },
  {
   "cell_type": "code",
   "execution_count": 40,
   "id": "01936e7f",
   "metadata": {},
   "outputs": [
    {
     "data": {
      "text/plain": [
       "Index(['fixed acidity', 'volatile acidity', 'citric acid', 'residual sugar',\n",
       "       'chlorides', 'free sulfur dioxide', 'total sulfur dioxide', 'density',\n",
       "       'pH', 'sulphates', 'alcohol', 'quality'],\n",
       "      dtype='object')"
      ]
     },
     "execution_count": 40,
     "metadata": {},
     "output_type": "execute_result"
    }
   ],
   "source": [
    "df.columns"
   ]
  },
  {
   "cell_type": "code",
   "execution_count": 41,
   "id": "6684300d",
   "metadata": {},
   "outputs": [
    {
     "data": {
      "text/plain": [
       "<AxesSubplot:xlabel='quality', ylabel='chlorides'>"
      ]
     },
     "execution_count": 41,
     "metadata": {},
     "output_type": "execute_result"
    },
    {
     "data": {
      "image/png": "[encoded data removed]",
      "text/plain": [
       "<Figure size 432x288 with 1 Axes>"
      ]
     },
     "metadata": {
      "needs_background": "light"
     },
     "output_type": "display_data"
    }
   ],
   "source": [
    "sns.boxplot(x ='quality', y='chlorides', data=df)"
   ]
  },
  {
   "cell_type": "code",
   "execution_count": 42,
   "id": "53df62d4",
   "metadata": {},
   "outputs": [
    {
     "data": {
      "text/plain": [
       "<AxesSubplot:xlabel='quality', ylabel='free sulfur dioxide'>"
      ]
     },
     "execution_count": 42,
     "metadata": {},
     "output_type": "execute_result"
    },
    {
     "data": {
      "image/png": "[encoded data removed]",
      "text/plain": [
       "<Figure size 432x288 with 1 Axes>"
      ]
     },
     "metadata": {
      "needs_background": "light"
     },
     "output_type": "display_data"
    }
   ],
   "source": [
    "sns.boxplot(x ='quality', y='free sulfur dioxide', data=df)"
   ]
  },
  {
   "cell_type": "code",
   "execution_count": 43,
   "id": "929e4032",
   "metadata": {},
   "outputs": [
    {
     "data": {
      "text/plain": [
       "<AxesSubplot:xlabel='quality', ylabel='density'>"
      ]
     },
     "execution_count": 43,
     "metadata": {},
     "output_type": "execute_result"
    },
    {
     "data": {
      "image/png": "[encoded data removed]",
      "text/plain": [
       "<Figure size 432x288 with 1 Axes>"
      ]
     },
     "metadata": {
      "needs_background": "light"
     },
     "output_type": "display_data"
    }
   ],
   "source": [
    "sns.boxplot(x ='quality', y='density', data=df)"
   ]
  },
  {
   "cell_type": "code",
   "execution_count": 44,
   "id": "0b014299",
   "metadata": {},
   "outputs": [
    {
     "data": {
      "text/plain": [
       "<AxesSubplot:xlabel='quality', ylabel='pH'>"
      ]
     },
     "execution_count": 44,
     "metadata": {},
     "output_type": "execute_result"
    },
    {
     "data": {
      "image/png": "[encoded data removed]",
      "text/plain": [
       "<Figure size 432x288 with 1 Axes>"
      ]
     },
     "metadata": {
      "needs_background": "light"
     },
     "output_type": "display_data"
    }
   ],
   "source": [
    "sns.boxplot(x ='quality', y='pH', data=df)"
   ]
  },
  {
   "cell_type": "code",
   "execution_count": 45,
   "id": "96aa75a0",
   "metadata": {},
   "outputs": [
    {
     "data": {
      "text/plain": [
       "<AxesSubplot:xlabel='quality', ylabel='sulphates'>"
      ]
     },
     "execution_count": 45,
     "metadata": {},
     "output_type": "execute_result"
    },
    {
     "data": {
      "image/png": "[encoded data removed]",
      "text/plain": [
       "<Figure size 432x288 with 1 Axes>"
      ]
     },
     "metadata": {
      "needs_background": "light"
     },
     "output_type": "display_data"
    }
   ],
   "source": [
    "sns.boxplot(x ='quality', y='sulphates', data=df)"
   ]
  },
  {
   "cell_type": "code",
   "execution_count": 46,
   "id": "fa5e5a1a",
   "metadata": {},
   "outputs": [
    {
     "data": {
      "text/plain": [
       "<AxesSubplot:xlabel='quality', ylabel='alcohol'>"
      ]
     },
     "execution_count": 46,
     "metadata": {},
     "output_type": "execute_result"
    },
    {
     "data": {
      "image/png": "[encoded data removed]",
      "text/plain": [
       "<Figure size 432x288 with 1 Axes>"
      ]
     },
     "metadata": {
      "needs_background": "light"
     },
     "output_type": "display_data"
    }
   ],
   "source": [
    "sns.boxplot(x ='quality', y='alcohol', data=df)"
   ]
  },
  {
   "cell_type": "code",
   "execution_count": 49,
   "id": "811b7e0f",
   "metadata": {},
   "outputs": [],
   "source": [
    "corr = df.corr()"
   ]
  },
  {
   "cell_type": "code",
   "execution_count": 51,
   "id": "767538ce",
   "metadata": {},
   "outputs": [
    {
     "data": {
      "text/plain": [
       "<AxesSubplot:>"
      ]
     },
     "execution_count": 51,
     "metadata": {},
     "output_type": "execute_result"
    },
    {
     "data": {
      "image/png": "[encoded data removed]",
      "text/plain": [
       "<Figure size 792x648 with 2 Axes>"
      ]
     },
     "metadata": {
      "needs_background": "light"
     },
     "output_type": "display_data"
    }
   ],
   "source": [
    "# Generate a mask for the upper triangle\n",
    "mask = np.triu(np.ones_like(corr, dtype=bool))\n",
    "\n",
    "# Set up the matplotlib figure\n",
    "f, ax = plt.subplots(figsize=(11, 9))\n",
    "\n",
    "# Generate a custom diverging colormap\n",
    "cmap = sns.diverging_palette(230, 20, as_cmap=True)\n",
    "\n",
    "# Draw the heatmap with the mask and correct aspect ratio\n",
    "sns.heatmap(corr, mask=mask, cmap=cmap, vmax=.3, center=0,\n",
    "            square=True, linewidths=.5, cbar_kws={\"shrink\": .5}, annot=True)"
   ]
  },
  {
   "cell_type": "markdown",
   "id": "82f8a270",
   "metadata": {},
   "source": [
    "As the correlation values are not greater than 0.8 on both +ve and -ve scale, we can say that there does not exist multicolliniearity."
   ]
  },
  {
   "cell_type": "code",
   "execution_count": 60,
   "id": "1e4a7448",
   "metadata": {},
   "outputs": [
    {
     "data": {
      "text/html": [
       "<div>\n",
       "<style scoped>\n",
       "    .dataframe tbody tr th:only-of-type {\n",
       "        vertical-align: middle;\n",
       "    }\n",
       "\n",
       "    .dataframe tbody tr th {\n",
       "        vertical-align: top;\n",
       "    }\n",
       "\n",
       "    .dataframe thead th {\n",
       "        text-align: right;\n",
       "    }\n",
       "</style>\n",
       "<table border=\"1\" class=\"dataframe\">\n",
       "  <thead>\n",
       "    <tr style=\"text-align: right;\">\n",
       "      <th></th>\n",
       "      <th>fixed acidity</th>\n",
       "      <th>volatile acidity</th>\n",
       "      <th>citric acid</th>\n",
       "      <th>residual sugar</th>\n",
       "      <th>chlorides</th>\n",
       "      <th>free sulfur dioxide</th>\n",
       "      <th>total sulfur dioxide</th>\n",
       "      <th>density</th>\n",
       "      <th>pH</th>\n",
       "      <th>sulphates</th>\n",
       "      <th>alcohol</th>\n",
       "      <th>quality</th>\n",
       "    </tr>\n",
       "  </thead>\n",
       "  <tbody>\n",
       "    <tr>\n",
       "      <th>1299</th>\n",
       "      <td>7.6</td>\n",
       "      <td>1.58</td>\n",
       "      <td>0.0</td>\n",
       "      <td>2.1</td>\n",
       "      <td>0.137</td>\n",
       "      <td>5.0</td>\n",
       "      <td>9.0</td>\n",
       "      <td>0.99476</td>\n",
       "      <td>3.5</td>\n",
       "      <td>0.4</td>\n",
       "      <td>10.9</td>\n",
       "      <td>3</td>\n",
       "    </tr>\n",
       "  </tbody>\n",
       "</table>\n",
       "</div>"
      ],
      "text/plain": [
       "      fixed acidity  volatile acidity  citric acid  residual sugar  chlorides  \\\n",
       "1299            7.6              1.58          0.0             2.1      0.137   \n",
       "\n",
       "      free sulfur dioxide  total sulfur dioxide  density   pH  sulphates  \\\n",
       "1299                  5.0                   9.0  0.99476  3.5        0.4   \n",
       "\n",
       "      alcohol  quality  \n",
       "1299     10.9        3  "
      ]
     },
     "execution_count": 60,
     "metadata": {},
     "output_type": "execute_result"
    }
   ],
   "source": [
    "df[df['volatile acidity']>=1.5]"
   ]
  },
  {
   "cell_type": "code",
   "execution_count": 62,
   "id": "69a05b51",
   "metadata": {},
   "outputs": [
    {
     "data": {
      "text/html": [
       "<div>\n",
       "<style scoped>\n",
       "    .dataframe tbody tr th:only-of-type {\n",
       "        vertical-align: middle;\n",
       "    }\n",
       "\n",
       "    .dataframe tbody tr th {\n",
       "        vertical-align: top;\n",
       "    }\n",
       "\n",
       "    .dataframe thead th {\n",
       "        text-align: right;\n",
       "    }\n",
       "</style>\n",
       "<table border=\"1\" class=\"dataframe\">\n",
       "  <thead>\n",
       "    <tr style=\"text-align: right;\">\n",
       "      <th></th>\n",
       "      <th>fixed acidity</th>\n",
       "      <th>volatile acidity</th>\n",
       "      <th>citric acid</th>\n",
       "      <th>residual sugar</th>\n",
       "      <th>chlorides</th>\n",
       "      <th>free sulfur dioxide</th>\n",
       "      <th>total sulfur dioxide</th>\n",
       "      <th>density</th>\n",
       "      <th>pH</th>\n",
       "      <th>sulphates</th>\n",
       "      <th>alcohol</th>\n",
       "      <th>quality</th>\n",
       "    </tr>\n",
       "  </thead>\n",
       "  <tbody>\n",
       "    <tr>\n",
       "      <th>151</th>\n",
       "      <td>9.2</td>\n",
       "      <td>0.52</td>\n",
       "      <td>1.0</td>\n",
       "      <td>3.4</td>\n",
       "      <td>0.61</td>\n",
       "      <td>32.0</td>\n",
       "      <td>69.0</td>\n",
       "      <td>0.9996</td>\n",
       "      <td>2.74</td>\n",
       "      <td>2.0</td>\n",
       "      <td>9.4</td>\n",
       "      <td>4</td>\n",
       "    </tr>\n",
       "  </tbody>\n",
       "</table>\n",
       "</div>"
      ],
      "text/plain": [
       "     fixed acidity  volatile acidity  citric acid  residual sugar  chlorides  \\\n",
       "151            9.2              0.52          1.0             3.4       0.61   \n",
       "\n",
       "     free sulfur dioxide  total sulfur dioxide  density    pH  sulphates  \\\n",
       "151                 32.0                  69.0   0.9996  2.74        2.0   \n",
       "\n",
       "     alcohol  quality  \n",
       "151      9.4        4  "
      ]
     },
     "execution_count": 62,
     "metadata": {},
     "output_type": "execute_result"
    }
   ],
   "source": [
    "df[df['citric acid']>=0.8]"
   ]
  },
  {
   "cell_type": "markdown",
   "id": "2be72e8d",
   "metadata": {},
   "source": [
    "### Outlier detection"
   ]
  },
  {
   "cell_type": "code",
   "execution_count": 24,
   "id": "544ae3e2",
   "metadata": {},
   "outputs": [],
   "source": [
    "def check_outlier_IQR(df):\n",
    "    for i in df.columns:\n",
    "        Q1=df[i].quantile(0.25)\n",
    "        Q3=df[i].quantile(0.75)\n",
    "        IQR=Q3-Q1\n",
    "        df_final=df[~((df[i]<(Q1-1.5*IQR)) | (df[i]>(Q3+1.5*IQR)))]\n",
    "        count_outliers = df.shape[0]-df_final.shape[0]\n",
    "        st = i+\" : \"+str(count_outliers)+'\\n'\n",
    "        print(st)"
   ]
  },
  {
   "cell_type": "code",
   "execution_count": 25,
   "id": "d2f802f4",
   "metadata": {},
   "outputs": [
    {
     "name": "stdout",
     "output_type": "stream",
     "text": [
      "fixed acidity : 49\n",
      "\n",
      "volatile acidity : 19\n",
      "\n",
      "citric acid : 1\n",
      "\n",
      "residual sugar : 155\n",
      "\n",
      "chlorides : 112\n",
      "\n",
      "free sulfur dioxide : 30\n",
      "\n",
      "total sulfur dioxide : 55\n",
      "\n",
      "density : 45\n",
      "\n",
      "pH : 35\n",
      "\n",
      "sulphates : 59\n",
      "\n",
      "alcohol : 13\n",
      "\n",
      "quality : 28\n",
      "\n"
     ]
    }
   ],
   "source": [
    "check_outlier_IQR(df)"
   ]
  },
  {
   "cell_type": "code",
   "execution_count": 126,
   "id": "3fe3581b",
   "metadata": {},
   "outputs": [],
   "source": [
    "df_outlier_removed = df.copy()"
   ]
  },
  {
   "cell_type": "markdown",
   "id": "53db1bd2",
   "metadata": {},
   "source": [
    "- Removing outlier from citric acid as it has high correlation with the target.\n",
    "- Removing residual sugar and chlorides as the count of outlier is high."
   ]
  },
  {
   "cell_type": "code",
   "execution_count": 127,
   "id": "6baa1134",
   "metadata": {},
   "outputs": [],
   "source": [
    "df_outlier_removed = df[df['citric acid']<=0.8]"
   ]
  },
  {
   "cell_type": "code",
   "execution_count": 93,
   "id": "6113b289",
   "metadata": {},
   "outputs": [
    {
     "name": "stderr",
     "output_type": "stream",
     "text": [
      "/Users/fllap0258/environments/personal_projects/lib/python3.8/site-packages/pandas/core/frame.py:4308: SettingWithCopyWarning: \n",
      "A value is trying to be set on a copy of a slice from a DataFrame\n",
      "\n",
      "See the caveats in the documentation: https://pandas.pydata.org/pandas-docs/stable/user_guide/indexing.html#returning-a-view-versus-a-copy\n",
      "  return super().drop(\n"
     ]
    }
   ],
   "source": [
    "df_outlier_removed.drop(['residual sugar', 'chlorides'], axis=1, inplace=True)"
   ]
  },
  {
   "cell_type": "code",
   "execution_count": 94,
   "id": "98380db7",
   "metadata": {},
   "outputs": [
    {
     "data": {
      "text/plain": [
       "(1598, 10)"
      ]
     },
     "execution_count": 94,
     "metadata": {},
     "output_type": "execute_result"
    }
   ],
   "source": [
    "df_outlier_removed.shape"
   ]
  },
  {
   "cell_type": "code",
   "execution_count": 138,
   "id": "5def7182",
   "metadata": {},
   "outputs": [],
   "source": [
    "df['quality'] = df.quality.apply(lambda x: 1 if x >= 7 else 0)"
   ]
  },
  {
   "cell_type": "code",
   "execution_count": 96,
   "id": "0562714e",
   "metadata": {},
   "outputs": [],
   "source": [
    "def split_features_target(df, column_name):\n",
    "    target = df[column_name]\n",
    "    df.drop([column_name], axis=1, inplace=True)\n",
    "    return df, target"
   ]
  },
  {
   "cell_type": "code",
   "execution_count": 139,
   "id": "32746f17",
   "metadata": {},
   "outputs": [],
   "source": [
    "features, target = split_features_target(df, 'quality')"
   ]
  },
  {
   "cell_type": "code",
   "execution_count": null,
   "id": "6a3bbee5",
   "metadata": {},
   "outputs": [],
   "source": []
  },
  {
   "cell_type": "markdown",
   "id": "ee0992f1",
   "metadata": {},
   "source": [
    "### Base line model"
   ]
  },
  {
   "cell_type": "code",
   "execution_count": 36,
   "id": "52fce811",
   "metadata": {},
   "outputs": [],
   "source": [
    "from sklearn.model_selection import train_test_split"
   ]
  },
  {
   "cell_type": "code",
   "execution_count": 143,
   "id": "4ea91e42",
   "metadata": {},
   "outputs": [],
   "source": [
    "from sklearn.preprocessing import StandardScaler\n",
    "\n",
    "from sklearn.tree import DecisionTreeClassifier\n",
    "from sklearn.metrics import accuracy_score, classification_report"
   ]
  },
  {
   "cell_type": "code",
   "execution_count": 141,
   "id": "45872df9",
   "metadata": {},
   "outputs": [],
   "source": [
    "features_scaled = StandardScaler().fit_transform(features)"
   ]
  },
  {
   "cell_type": "code",
   "execution_count": 142,
   "id": "41482425",
   "metadata": {},
   "outputs": [],
   "source": [
    "x_train, x_test, y_train ,y_test = train_test_split(features_scaled, target, test_size=0.2, random_state=1)"
   ]
  },
  {
   "cell_type": "code",
   "execution_count": 144,
   "id": "235ccc76",
   "metadata": {},
   "outputs": [],
   "source": [
    "decision_tree_clf = DecisionTreeClassifier(max_depth=4, random_state=4)\n"
   ]
  },
  {
   "cell_type": "code",
   "execution_count": 145,
   "id": "0dfb0b46",
   "metadata": {},
   "outputs": [
    {
     "data": {
      "text/plain": [
       "DecisionTreeClassifier(max_depth=4, random_state=4)"
      ]
     },
     "execution_count": 145,
     "metadata": {},
     "output_type": "execute_result"
    }
   ],
   "source": [
    "decision_tree_clf.fit(x_train, y_train)"
   ]
  },
  {
   "cell_type": "code",
   "execution_count": 146,
   "id": "7c6a40b7",
   "metadata": {},
   "outputs": [],
   "source": [
    "test_labels = decision_tree_clf.predict(x_test)"
   ]
  },
  {
   "cell_type": "code",
   "execution_count": 147,
   "id": "c6feb525",
   "metadata": {},
   "outputs": [
    {
     "name": "stdout",
     "output_type": "stream",
     "text": [
      "              precision    recall  f1-score   support\n",
      "\n",
      "           0       0.94      0.93      0.93       288\n",
      "           1       0.42      0.47      0.44        32\n",
      "\n",
      "    accuracy                           0.88       320\n",
      "   macro avg       0.68      0.70      0.69       320\n",
      "weighted avg       0.89      0.88      0.88       320\n",
      "\n"
     ]
    }
   ],
   "source": [
    "print(classification_report(y_test, test_labels))"
   ]
  },
  {
   "cell_type": "markdown",
   "id": "44f1743b",
   "metadata": {},
   "source": [
    "### Effect of handling outliers"
   ]
  },
  {
   "cell_type": "markdown",
   "id": "7ea4625f",
   "metadata": {},
   "source": [
    "- citric acid\n",
    "- density\n",
    "- pH\n",
    "\n",
    "Why these ?\n",
    "Because these features have higher correlation with the target variable"
   ]
  },
  {
   "cell_type": "code",
   "execution_count": 157,
   "id": "8a501ba1",
   "metadata": {},
   "outputs": [],
   "source": [
    "df_copy = df.copy()"
   ]
  },
  {
   "cell_type": "code",
   "execution_count": 152,
   "id": "fb4711d2",
   "metadata": {},
   "outputs": [],
   "source": [
    "df_outlier_removed = df_copy[df_copy['citric acid']<=0.8]"
   ]
  },
  {
   "cell_type": "code",
   "execution_count": 153,
   "id": "acf5d953",
   "metadata": {},
   "outputs": [
    {
     "name": "stderr",
     "output_type": "stream",
     "text": [
      "<ipython-input-153-62840cd48241>:1: SettingWithCopyWarning: \n",
      "A value is trying to be set on a copy of a slice from a DataFrame.\n",
      "Try using .loc[row_indexer,col_indexer] = value instead\n",
      "\n",
      "See the caveats in the documentation: https://pandas.pydata.org/pandas-docs/stable/user_guide/indexing.html#returning-a-view-versus-a-copy\n",
      "  df_outlier_removed['quality'] = df_outlier_removed.quality.apply(lambda x: 1 if x >= 7 else 0)\n"
     ]
    }
   ],
   "source": [
    "df_outlier_removed['quality'] = df_outlier_removed.quality.apply(lambda x: 1 if x >= 7 else 0)"
   ]
  },
  {
   "cell_type": "code",
   "execution_count": 154,
   "id": "1c17ce6c",
   "metadata": {},
   "outputs": [
    {
     "name": "stderr",
     "output_type": "stream",
     "text": [
      "/Users/fllap0258/environments/personal_projects/lib/python3.8/site-packages/pandas/core/frame.py:4308: SettingWithCopyWarning: \n",
      "A value is trying to be set on a copy of a slice from a DataFrame\n",
      "\n",
      "See the caveats in the documentation: https://pandas.pydata.org/pandas-docs/stable/user_guide/indexing.html#returning-a-view-versus-a-copy\n",
      "  return super().drop(\n"
     ]
    }
   ],
   "source": [
    "features, target = split_features_target(df_outlier_removed, 'quality')"
   ]
  },
  {
   "cell_type": "code",
   "execution_count": 155,
   "id": "cd2e6910",
   "metadata": {},
   "outputs": [
    {
     "name": "stdout",
     "output_type": "stream",
     "text": [
      "              precision    recall  f1-score   support\n",
      "\n",
      "           0       0.93      0.96      0.94       279\n",
      "           1       0.65      0.49      0.56        41\n",
      "\n",
      "    accuracy                           0.90       320\n",
      "   macro avg       0.79      0.72      0.75       320\n",
      "weighted avg       0.89      0.90      0.89       320\n",
      "\n"
     ]
    }
   ],
   "source": [
    "features_scaled = StandardScaler().fit_transform(features)\n",
    "\n",
    "x_train, x_test, y_train ,y_test = train_test_split(features_scaled, target, test_size=0.2, random_state=1)\n",
    "\n",
    "decision_tree_clf = DecisionTreeClassifier(max_depth=4, random_state=4)\n",
    "decision_tree_clf.fit(x_train, y_train)\n",
    "\n",
    "test_labels = decision_tree_clf.predict(x_test)\n",
    "print(classification_report(y_test, test_labels))"
   ]
  },
  {
   "cell_type": "markdown",
   "id": "eb1fa41b",
   "metadata": {},
   "source": [
    "- As we can see, by removing 1 unusual data point, we have improved the precision of the same model by 20%"
   ]
  },
  {
   "cell_type": "code",
   "execution_count": 158,
   "id": "25d71da9",
   "metadata": {},
   "outputs": [],
   "source": [
    "## density and pH"
   ]
  },
  {
   "cell_type": "code",
   "execution_count": 168,
   "id": "e59d0bc3",
   "metadata": {},
   "outputs": [],
   "source": [
    "def remove_outliers(df, column_name):\n",
    "    Q1 = df[column_name].quantile(0.25)\n",
    "    Q3 = df[column_name].quantile(0.75)\n",
    "    IQR = Q3-Q1\n",
    "    df_wo_outliers = df[(df[column_name]>(Q1-IQR*1.5))&(df[column_name]<(Q3+IQR*1.5))] \n",
    "    return df_wo_outliers"
   ]
  },
  {
   "cell_type": "code",
   "execution_count": 169,
   "id": "db58cd84",
   "metadata": {},
   "outputs": [
    {
     "data": {
      "text/plain": [
       "(1599, 12)"
      ]
     },
     "execution_count": 169,
     "metadata": {},
     "output_type": "execute_result"
    }
   ],
   "source": [
    "df_copy.shape"
   ]
  },
  {
   "cell_type": "code",
   "execution_count": 170,
   "id": "c008840a",
   "metadata": {},
   "outputs": [
    {
     "data": {
      "text/plain": [
       "(1598, 12)"
      ]
     },
     "execution_count": 170,
     "metadata": {},
     "output_type": "execute_result"
    }
   ],
   "source": [
    "df_outliers_removed = remove_outliers(df_copy, 'citric acid')\n",
    "df_outliers_removed.shape"
   ]
  },
  {
   "cell_type": "code",
   "execution_count": 171,
   "id": "6e9c06bc",
   "metadata": {},
   "outputs": [
    {
     "data": {
      "text/plain": [
       "(1553, 12)"
      ]
     },
     "execution_count": 171,
     "metadata": {},
     "output_type": "execute_result"
    }
   ],
   "source": [
    "df_outliers_removed = remove_outliers(df_outliers_removed, 'density')\n",
    "df_outliers_removed.shape"
   ]
  },
  {
   "cell_type": "code",
   "execution_count": 172,
   "id": "2ec97259",
   "metadata": {},
   "outputs": [
    {
     "data": {
      "text/plain": [
       "(1528, 12)"
      ]
     },
     "execution_count": 172,
     "metadata": {},
     "output_type": "execute_result"
    }
   ],
   "source": [
    "df_outliers_removed = remove_outliers(df_outliers_removed, 'pH')\n",
    "df_outliers_removed.shape"
   ]
  },
  {
   "cell_type": "code",
   "execution_count": 175,
   "id": "2f8e11a2",
   "metadata": {},
   "outputs": [],
   "source": [
    "df_outliers_removed['quality'] = df_outliers_removed.quality.apply(lambda x: 1 if x >= 7 else 0)"
   ]
  },
  {
   "cell_type": "code",
   "execution_count": 177,
   "id": "1517ec67",
   "metadata": {},
   "outputs": [],
   "source": [
    "features, target = split_features_target(df_outliers_removed, 'quality')"
   ]
  },
  {
   "cell_type": "code",
   "execution_count": 178,
   "id": "b5e0da62",
   "metadata": {},
   "outputs": [
    {
     "name": "stdout",
     "output_type": "stream",
     "text": [
      "              precision    recall  f1-score   support\n",
      "\n",
      "           0       0.89      0.96      0.92       259\n",
      "           1       0.61      0.36      0.45        47\n",
      "\n",
      "    accuracy                           0.87       306\n",
      "   macro avg       0.75      0.66      0.69       306\n",
      "weighted avg       0.85      0.87      0.85       306\n",
      "\n"
     ]
    }
   ],
   "source": [
    "features_scaled = StandardScaler().fit_transform(features)\n",
    "\n",
    "x_train, x_test, y_train ,y_test = train_test_split(features_scaled, target, test_size=0.2, random_state=1)\n",
    "\n",
    "decision_tree_clf = DecisionTreeClassifier(max_depth=4, random_state=4)\n",
    "decision_tree_clf.fit(x_train, y_train)\n",
    "\n",
    "test_labels = decision_tree_clf.predict(x_test)\n",
    "print(classification_report(y_test, test_labels))"
   ]
  },
  {
   "cell_type": "markdown",
   "id": "b5740ef4",
   "metadata": {},
   "source": [
    "- As we can see, that the metrics have decreased.\n",
    "- Hence, we can say that removing these data points have removed some valuable datapoints"
   ]
  },
  {
   "cell_type": "code",
   "execution_count": 181,
   "id": "e26a85bb",
   "metadata": {},
   "outputs": [],
   "source": [
    "## volatile acidity"
   ]
  },
  {
   "cell_type": "code",
   "execution_count": 182,
   "id": "8975058a",
   "metadata": {},
   "outputs": [
    {
     "data": {
      "text/plain": [
       "(1598, 12)"
      ]
     },
     "execution_count": 182,
     "metadata": {},
     "output_type": "execute_result"
    }
   ],
   "source": [
    "df_outliers_removed_2 = remove_outliers(df_copy, 'citric acid')\n",
    "df_outliers_removed_2.shape"
   ]
  },
  {
   "cell_type": "code",
   "execution_count": 186,
   "id": "289d5f56",
   "metadata": {},
   "outputs": [],
   "source": [
    "df_outliers_removed_2 = df_outliers_removed_2[df_outliers_removed_2['volatile acidity']<1.5]"
   ]
  },
  {
   "cell_type": "code",
   "execution_count": 187,
   "id": "a09ddae4",
   "metadata": {},
   "outputs": [
    {
     "data": {
      "text/plain": [
       "(1597, 12)"
      ]
     },
     "execution_count": 187,
     "metadata": {},
     "output_type": "execute_result"
    }
   ],
   "source": [
    "df_outliers_removed_2.shape"
   ]
  },
  {
   "cell_type": "code",
   "execution_count": 188,
   "id": "85f0fd83",
   "metadata": {},
   "outputs": [],
   "source": [
    "df_outliers_removed_2['quality'] = df_outliers_removed_2.quality.apply(lambda x: 1 if x >= 7 else 0)"
   ]
  },
  {
   "cell_type": "code",
   "execution_count": 189,
   "id": "137181ad",
   "metadata": {},
   "outputs": [],
   "source": [
    "features, target = split_features_target(df_outliers_removed_2, 'quality')"
   ]
  },
  {
   "cell_type": "code",
   "execution_count": 190,
   "id": "50c1e9a1",
   "metadata": {},
   "outputs": [
    {
     "name": "stdout",
     "output_type": "stream",
     "text": [
      "              precision    recall  f1-score   support\n",
      "\n",
      "           0       0.90      0.97      0.94       277\n",
      "           1       0.67      0.33      0.44        43\n",
      "\n",
      "    accuracy                           0.89       320\n",
      "   macro avg       0.78      0.65      0.69       320\n",
      "weighted avg       0.87      0.89      0.87       320\n",
      "\n"
     ]
    }
   ],
   "source": [
    "features_scaled = StandardScaler().fit_transform(features)\n",
    "\n",
    "x_train, x_test, y_train ,y_test = train_test_split(features_scaled, target, test_size=0.2, random_state=1)\n",
    "\n",
    "decision_tree_clf = DecisionTreeClassifier(max_depth=4, random_state=4)\n",
    "decision_tree_clf.fit(x_train, y_train)\n",
    "\n",
    "test_labels = decision_tree_clf.predict(x_test)\n",
    "print(classification_report(y_test, test_labels))"
   ]
  },
  {
   "cell_type": "code",
   "execution_count": 191,
   "id": "c3ac66e9",
   "metadata": {},
   "outputs": [],
   "source": [
    "## alcohol"
   ]
  },
  {
   "cell_type": "code",
   "execution_count": 199,
   "id": "6ee4848a",
   "metadata": {},
   "outputs": [
    {
     "data": {
      "text/plain": [
       "(1598, 12)"
      ]
     },
     "execution_count": 199,
     "metadata": {},
     "output_type": "execute_result"
    }
   ],
   "source": [
    "df_outliers_removed_2 = remove_outliers(df_copy, 'citric acid')\n",
    "df_outliers_removed_2.shape"
   ]
  },
  {
   "cell_type": "code",
   "execution_count": 200,
   "id": "ba3a28f1",
   "metadata": {},
   "outputs": [],
   "source": [
    "df_outliers_removed_2=df_outliers_removed_2[df_outliers_removed_2['alcohol']<14]\n",
    "df_outliers_removed_2=df_outliers_removed_2[df_outliers_removed_2['volatile acidity']<1.5]"
   ]
  },
  {
   "cell_type": "code",
   "execution_count": 201,
   "id": "35ed7a13",
   "metadata": {},
   "outputs": [],
   "source": [
    "df_outliers_removed_2['quality'] = df_outliers_removed_2.quality.apply(lambda x: 1 if x >= 7 else 0)"
   ]
  },
  {
   "cell_type": "code",
   "execution_count": 202,
   "id": "39ae4de8",
   "metadata": {},
   "outputs": [],
   "source": [
    "features, target = split_features_target(df_outliers_removed_2, 'quality')"
   ]
  },
  {
   "cell_type": "code",
   "execution_count": 203,
   "id": "1759c12b",
   "metadata": {},
   "outputs": [
    {
     "name": "stdout",
     "output_type": "stream",
     "text": [
      "              precision    recall  f1-score   support\n",
      "\n",
      "           0       0.92      0.98      0.95       274\n",
      "           1       0.77      0.45      0.57        44\n",
      "\n",
      "    accuracy                           0.91       318\n",
      "   macro avg       0.84      0.72      0.76       318\n",
      "weighted avg       0.90      0.91      0.90       318\n",
      "\n"
     ]
    }
   ],
   "source": [
    "features_scaled = StandardScaler().fit_transform(features)\n",
    "\n",
    "x_train, x_test, y_train ,y_test = train_test_split(features_scaled, target, test_size=0.2, random_state=1)\n",
    "\n",
    "decision_tree_clf = DecisionTreeClassifier(max_depth=4, random_state=4)\n",
    "decision_tree_clf.fit(x_train, y_train)\n",
    "\n",
    "test_labels = decision_tree_clf.predict(x_test)\n",
    "print(classification_report(y_test, test_labels))"
   ]
  },
  {
   "cell_type": "raw",
   "id": "4c428c74",
   "metadata": {},
   "source": [
    "### Previous best metrics\n",
    "\n",
    "                   precision    recall  f1-score   support\n",
    "\n",
    "           0       0.93      0.96      0.94       279\n",
    "           1       0.65      0.49      0.56        41\n",
    "\n",
    "    accuracy                           0.90       320\n",
    "   macro avg       0.79      0.72      0.75       320\n",
    "weighted avg       0.89      0.90      0.89       320\n"
   ]
  },
  {
   "cell_type": "markdown",
   "id": "701659f9",
   "metadata": {},
   "source": [
    "- Once we have removed outliers from citric acid, volatile acidity and alcohol, the metrics improved significantly"
   ]
  },
  {
   "cell_type": "code",
   "execution_count": 205,
   "id": "1ec3670d",
   "metadata": {},
   "outputs": [],
   "source": [
    "### Changing the ML models."
   ]
  },
  {
   "cell_type": "code",
   "execution_count": 217,
   "id": "8fb15f47",
   "metadata": {},
   "outputs": [],
   "source": [
    "from sklearn.linear_model import LogisticRegression\n",
    "from sklearn.ensemble import RandomForestClassifier"
   ]
  },
  {
   "cell_type": "code",
   "execution_count": 212,
   "id": "e296d8ea",
   "metadata": {},
   "outputs": [
    {
     "data": {
      "text/plain": [
       "(1598, 12)"
      ]
     },
     "execution_count": 212,
     "metadata": {},
     "output_type": "execute_result"
    }
   ],
   "source": [
    "df_outliers_removed_2 = remove_outliers(df_copy, 'citric acid')\n",
    "df_outliers_removed_2.shape"
   ]
  },
  {
   "cell_type": "code",
   "execution_count": 213,
   "id": "80b9b431",
   "metadata": {},
   "outputs": [],
   "source": [
    "df_outliers_removed_2=df_outliers_removed_2[df_outliers_removed_2['alcohol']<14]\n",
    "df_outliers_removed_2=df_outliers_removed_2[df_outliers_removed_2['volatile acidity']<1.5]"
   ]
  },
  {
   "cell_type": "code",
   "execution_count": 214,
   "id": "f5b6e640",
   "metadata": {},
   "outputs": [],
   "source": [
    "df_outliers_removed_2['quality'] = df_outliers_removed_2.quality.apply(lambda x: 1 if x >= 7 else 0)"
   ]
  },
  {
   "cell_type": "code",
   "execution_count": 215,
   "id": "518f0730",
   "metadata": {},
   "outputs": [],
   "source": [
    "features, target = split_features_target(df_outliers_removed_2, 'quality')"
   ]
  },
  {
   "cell_type": "code",
   "execution_count": 216,
   "id": "fb6c58c0",
   "metadata": {},
   "outputs": [
    {
     "name": "stdout",
     "output_type": "stream",
     "text": [
      "              precision    recall  f1-score   support\n",
      "\n",
      "           0       0.89      0.97      0.93       274\n",
      "           1       0.58      0.25      0.35        44\n",
      "\n",
      "    accuracy                           0.87       318\n",
      "   macro avg       0.73      0.61      0.64       318\n",
      "weighted avg       0.85      0.87      0.85       318\n",
      "\n"
     ]
    }
   ],
   "source": [
    "features_scaled = StandardScaler().fit_transform(features)\n",
    "\n",
    "x_train, x_test, y_train ,y_test = train_test_split(features_scaled, target, test_size=0.2, random_state=1)\n",
    "\n",
    "lgc = LogisticRegression()\n",
    "lgc.fit(x_train, y_train)\n",
    "\n",
    "test_labels = lgc.predict(x_test)\n",
    "print(classification_report(y_test, test_labels))"
   ]
  },
  {
   "cell_type": "code",
   "execution_count": 228,
   "id": "0226d391",
   "metadata": {},
   "outputs": [
    {
     "name": "stdout",
     "output_type": "stream",
     "text": [
      "              precision    recall  f1-score   support\n",
      "\n",
      "           0       0.90      0.98      0.94       274\n",
      "           1       0.68      0.30      0.41        44\n",
      "\n",
      "    accuracy                           0.88       318\n",
      "   macro avg       0.79      0.64      0.67       318\n",
      "weighted avg       0.87      0.88      0.86       318\n",
      "\n"
     ]
    }
   ],
   "source": [
    "rfm = RandomForestClassifier(random_state=4)\n",
    "rfm.fit(x_train, y_train)\n",
    "\n",
    "test_labels = rfm.predict(x_test)\n",
    "print(classification_report(y_test, test_labels))"
   ]
  },
  {
   "cell_type": "code",
   "execution_count": 239,
   "id": "184811a7",
   "metadata": {},
   "outputs": [],
   "source": [
    "### Hyperparameter tuning"
   ]
  },
  {
   "cell_type": "code",
   "execution_count": 240,
   "id": "78dcf8e4",
   "metadata": {},
   "outputs": [],
   "source": [
    "from sklearn.model_selection import GridSearchCV"
   ]
  },
  {
   "cell_type": "code",
   "execution_count": 261,
   "id": "9f22c6c5",
   "metadata": {},
   "outputs": [],
   "source": [
    "md = [4,5,6,7,8,9,10,11,12,13]"
   ]
  },
  {
   "cell_type": "code",
   "execution_count": 242,
   "id": "f139bf2c",
   "metadata": {},
   "outputs": [
    {
     "data": {
      "text/plain": [
       "(1598, 12)"
      ]
     },
     "execution_count": 242,
     "metadata": {},
     "output_type": "execute_result"
    }
   ],
   "source": [
    "df_outliers_removed_2 = remove_outliers(df_copy, 'citric acid')\n",
    "df_outliers_removed_2.shape"
   ]
  },
  {
   "cell_type": "code",
   "execution_count": 243,
   "id": "1ec9c382",
   "metadata": {},
   "outputs": [],
   "source": [
    "f_outliers_removed_2=df_outliers_removed_2[df_outliers_removed_2['alcohol']<14]\n",
    "df_outliers_removed_2=df_outliers_removed_2[df_outliers_removed_2['volatile acidity']<1.5]"
   ]
  },
  {
   "cell_type": "code",
   "execution_count": 244,
   "id": "1505c6c9",
   "metadata": {},
   "outputs": [],
   "source": [
    "df_outliers_removed_2['quality'] = df_outliers_removed_2.quality.apply(lambda x: 1 if x >= 7 else 0)"
   ]
  },
  {
   "cell_type": "code",
   "execution_count": 245,
   "id": "287832c6",
   "metadata": {},
   "outputs": [],
   "source": [
    "features, target = split_features_target(df_outliers_removed_2, 'quality')"
   ]
  },
  {
   "cell_type": "code",
   "execution_count": 247,
   "id": "425f5350",
   "metadata": {},
   "outputs": [],
   "source": [
    "features_scaled = StandardScaler().fit_transform(features)\n",
    "\n",
    "x_train, x_test, y_train ,y_test = train_test_split(features_scaled, target, test_size=0.2, random_state=1)\n"
   ]
  },
  {
   "cell_type": "code",
   "execution_count": 262,
   "id": "b5f9a7cc",
   "metadata": {},
   "outputs": [],
   "source": [
    "gsc = GridSearchCV(\n",
    "    estimator=DecisionTreeClassifier(random_state=4),\n",
    "    param_grid={\n",
    "        'max_depth':md\n",
    "    },\n",
    "    scoring='recall'\n",
    "\n",
    ")\n",
    "grid_result = gsc.fit(x_train, y_train)\n"
   ]
  },
  {
   "cell_type": "code",
   "execution_count": 263,
   "id": "db9729ea",
   "metadata": {},
   "outputs": [],
   "source": [
    "df_result = pd.DataFrame({'score':grid_result.cv_results_['mean_test_score'],\n",
    "                          'max_depth':md\n",
    "                         })"
   ]
  },
  {
   "cell_type": "code",
   "execution_count": 264,
   "id": "32d26f14",
   "metadata": {},
   "outputs": [
    {
     "data": {
      "text/plain": [
       "<AxesSubplot:xlabel='max_depth'>"
      ]
     },
     "execution_count": 264,
     "metadata": {},
     "output_type": "execute_result"
    },
    {
     "data": {
      "image/png": "[encoded data removed]",
      "text/plain": [
       "<Figure size 432x288 with 1 Axes>"
      ]
     },
     "metadata": {
      "needs_background": "light"
     },
     "output_type": "display_data"
    }
   ],
   "source": [
    "df_result.plot(x='max_depth')"
   ]
  },
  {
   "cell_type": "code",
   "execution_count": 265,
   "id": "18bcfbc0",
   "metadata": {},
   "outputs": [],
   "source": [
    "min_split_list = [2,3,4,5]"
   ]
  },
  {
   "cell_type": "code",
   "execution_count": 266,
   "id": "08f87776",
   "metadata": {},
   "outputs": [],
   "source": [
    "gsc = GridSearchCV(\n",
    "    estimator=DecisionTreeClassifier(random_state=4, max_depth=10),\n",
    "    param_grid={\n",
    "        'min_samples_split':min_split_list\n",
    "    },\n",
    "    scoring='recall'\n",
    "\n",
    ")\n",
    "grid_result = gsc.fit(x_train, y_train)\n"
   ]
  },
  {
   "cell_type": "code",
   "execution_count": 267,
   "id": "3b5f2541",
   "metadata": {},
   "outputs": [
    {
     "data": {
      "text/plain": [
       "<AxesSubplot:xlabel='min_samples_split'>"
      ]
     },
     "execution_count": 267,
     "metadata": {},
     "output_type": "execute_result"
    },
    {
     "data": {
      "image/png": "[encoded data removed]",
      "text/plain": [
       "<Figure size 432x288 with 1 Axes>"
      ]
     },
     "metadata": {
      "needs_background": "light"
     },
     "output_type": "display_data"
    }
   ],
   "source": [
    "df_result = pd.DataFrame({'score':grid_result.cv_results_['mean_test_score'],\n",
    "                          'min_samples_split':min_split_list\n",
    "                         })\n",
    "df_result.plot(x='min_samples_split')"
   ]
  },
  {
   "cell_type": "code",
   "execution_count": 268,
   "id": "dbdcb1c1",
   "metadata": {},
   "outputs": [],
   "source": [
    "min_sample_leaf_list = [1,2,3,4]"
   ]
  },
  {
   "cell_type": "code",
   "execution_count": 273,
   "id": "9bec8e79",
   "metadata": {
    "scrolled": false
   },
   "outputs": [],
   "source": [
    "gsc = GridSearchCV(\n",
    "    estimator=DecisionTreeClassifier(random_state=4, max_depth=10, min_samples_split=2),\n",
    "    param_grid={\n",
    "        'min_samples_leaf':min_sample_leaf_list\n",
    "    },\n",
    "    scoring='recall'\n",
    "\n",
    ")\n",
    "grid_result = gsc.fit(x_train, y_train)\n"
   ]
  },
  {
   "cell_type": "code",
   "execution_count": 275,
   "id": "6f46181a",
   "metadata": {},
   "outputs": [
    {
     "data": {
      "text/plain": [
       "<AxesSubplot:xlabel='min_samples_leaf'>"
      ]
     },
     "execution_count": 275,
     "metadata": {},
     "output_type": "execute_result"
    },
    {
     "data": {
      "image/png": "[encoded data removed]",
      "text/plain": [
       "<Figure size 432x288 with 1 Axes>"
      ]
     },
     "metadata": {
      "needs_background": "light"
     },
     "output_type": "display_data"
    }
   ],
   "source": [
    "df_result = pd.DataFrame({'score':grid_result.cv_results_['mean_test_score'],\n",
    "                          'min_samples_leaf':min_sample_leaf_list\n",
    "                         })\n",
    "df_result.plot(x='min_samples_leaf')"
   ]
  },
  {
   "cell_type": "code",
   "execution_count": 282,
   "id": "6a604187",
   "metadata": {},
   "outputs": [
    {
     "name": "stdout",
     "output_type": "stream",
     "text": [
      "              precision    recall  f1-score   support\n",
      "\n",
      "           0       0.93      0.97      0.95       277\n",
      "           1       0.72      0.53      0.61        43\n",
      "\n",
      "    accuracy                           0.91       320\n",
      "   macro avg       0.82      0.75      0.78       320\n",
      "weighted avg       0.90      0.91      0.90       320\n",
      "\n"
     ]
    }
   ],
   "source": [
    "decision_tree_clf = DecisionTreeClassifier(max_depth=13, random_state=4)\n",
    "decision_tree_clf.fit(x_train, y_train)\n",
    "\n",
    "test_labels = decision_tree_clf.predict(x_test)\n",
    "print(classification_report(y_test, test_labels))"
   ]
  },
  {
   "cell_type": "markdown",
   "id": "cfd7af69",
   "metadata": {},
   "source": [
    "## Best Results.\n",
    "- This Model can be used to detect the bad wine quality samples."
   ]
  },
  {
   "cell_type": "code",
   "execution_count": null,
   "id": "e63296eb",
   "metadata": {},
   "outputs": [],
   "source": []
  }
 ],
 "metadata": {
  "kernelspec": {
   "display_name": "Python 3",
   "language": "python",
   "name": "python3"
  },
  "language_info": {
   "codemirror_mode": {
    "name": "ipython",
    "version": 3
   },
   "file_extension": ".py",
   "mimetype": "text/x-python",
   "name": "python",
   "nbconvert_exporter": "python",
   "pygments_lexer": "ipython3",
   "version": "3.8.7"
  }
 },
 "nbformat": 4,
 "nbformat_minor": 5
}
